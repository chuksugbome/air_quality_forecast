{
 "cells": [
  {
   "cell_type": "code",
   "execution_count": 6,
   "id": "8dbbcb91",
   "metadata": {},
   "outputs": [],
   "source": [
    "# data exploration and visualization\n",
    "import pandas as pd\n",
    "import numpy as np\n",
    "import json \n",
    "import re \n",
    "import joblib \n",
    "import matplotlib.pyplot as plt \n",
    "import seaborn as sns \n",
    "from datetime import datetime \n",
    "import os \n",
    "from pathlib import Path\n",
    "from sklearn.model_selection import train_test_split\n",
    "from sklearn.ensemble import RandomForestRegressor\n",
    "from sklearn.metrics import mean_squared_error\n",
    "from sklearn.preprocessing import StandardScaler\n",
    "from sklearn.metrics import r2_score\n",
    "import matplotlib.pyplot as plt\n"
   ]
  },
  {
   "cell_type": "code",
   "execution_count": null,
   "id": "5bcc4d30",
   "metadata": {},
   "outputs": [
    {
     "name": "stdout",
     "output_type": "stream",
     "text": [
      "No data files loaded. Check the directory and file format.\n"
     ]
    }
   ],
   "source": [
    "# load and combine data\n",
    "data_dir = Path(\"C:/Users/user/Downloads/air_quality_\")\n",
    "all_files = list(data_dir.glob(\"*.csv\"))\n",
    "\n",
    "data_list = []\n",
    "for file in all_files:\n",
    "    try:\n",
    "        df = pd.read_csv(file, sep=';')\n",
    "        if not df.empty:\n",
    "            data_list.append(df)\n",
    "    except pd.errors.EmptyDataError:\n",
    "        print(f\"Skipped empty file: {file}\")\n",
    "\n",
    "data = pd.concat(data_list, ignore_index=True)\n",
    "data.columns = data.columns.str.strip()  # Remove whitespace from column names\n",
    "data['timestamp'] = pd.to_datetime(data['timestamp'])\n",
    "data.set_index('timestamp', inplace=True)\n",
    "data.sort_index(inplace=True)\n",
    "print(data.info()) # Display first few rows"
   ]
  }
 ],
 "metadata": {
  "kernelspec": {
   "display_name": "Python 3",
   "language": "python",
   "name": "python3"
  },
  "language_info": {
   "codemirror_mode": {
    "name": "ipython",
    "version": 3
   },
   "file_extension": ".py",
   "mimetype": "text/x-python",
   "name": "python",
   "nbconvert_exporter": "python",
   "pygments_lexer": "ipython3",
   "version": "3.11.5"
  }
 },
 "nbformat": 4,
 "nbformat_minor": 5
}
